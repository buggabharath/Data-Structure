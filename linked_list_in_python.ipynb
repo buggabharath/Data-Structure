{
 "cells": [
  {
   "cell_type": "markdown",
   "metadata": {},
   "source": [
    "# Linked List in Python"
   ]
  },
  {
   "cell_type": "code",
   "execution_count": 2,
   "metadata": {},
   "outputs": [],
   "source": [
    "# creating the Node\n",
    "\n",
    "class Node:\n",
    "    def __init__(self, asname = None):\n",
    "        self.asname = asname\n",
    "        self.nextname = None"
   ]
  },
  {
   "cell_type": "code",
   "execution_count": 3,
   "metadata": {},
   "outputs": [],
   "source": [
    "# Creating the Single Linked List\n",
    "\n",
    "class sLinkedlist:\n",
    "    def __init__(self):\n",
    "        self.headname = None\n",
    "    "
   ]
  },
  {
   "cell_type": "code",
   "execution_count": 4,
   "metadata": {},
   "outputs": [],
   "source": [
    "list1 = sLinkedlist()\n",
    "list1.headname = Node('Bugga')\n",
    "e2 = Node('Kumar')\n",
    "e3 = Node('Bharath')"
   ]
  },
  {
   "cell_type": "code",
   "execution_count": 5,
   "metadata": {},
   "outputs": [],
   "source": [
    "# Link first Node to Second Node\n",
    "\n",
    "list1.headname.nextname = e3"
   ]
  },
  {
   "cell_type": "code",
   "execution_count": 6,
   "metadata": {},
   "outputs": [],
   "source": [
    "# Link Second Node to third node\n",
    "\n",
    "e3.nextname = e2"
   ]
  },
  {
   "cell_type": "code",
   "execution_count": 7,
   "metadata": {},
   "outputs": [],
   "source": [
    "def listprint(self):\n",
    "    printval = self.headname\n",
    "    while printval is not None:\n",
    "        print(printval.asname)\n",
    "        printval = printval.nextname"
   ]
  },
  {
   "cell_type": "code",
   "execution_count": null,
   "metadata": {},
   "outputs": [],
   "source": []
  }
 ],
 "metadata": {
  "kernelspec": {
   "display_name": "Python 3",
   "language": "python",
   "name": "python3"
  },
  "language_info": {
   "codemirror_mode": {
    "name": "ipython",
    "version": 3
   },
   "file_extension": ".py",
   "mimetype": "text/x-python",
   "name": "python",
   "nbconvert_exporter": "python",
   "pygments_lexer": "ipython3",
   "version": "3.7.4"
  }
 },
 "nbformat": 4,
 "nbformat_minor": 2
}
