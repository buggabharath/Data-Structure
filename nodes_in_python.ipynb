{
 "cells": [
  {
   "cell_type": "code",
   "execution_count": 1,
   "metadata": {},
   "outputs": [],
   "source": [
    "class daynames:\n",
    "    def __init__(self, dateval = None):\n",
    "        self.dateval = dateval\n",
    "        self.nextval = None"
   ]
  },
  {
   "cell_type": "code",
   "execution_count": 2,
   "metadata": {},
   "outputs": [],
   "source": [
    "e1 = daynames('hey')\n",
    "e2 = daynames('How are you')\n",
    "e3 = daynames('John')"
   ]
  },
  {
   "cell_type": "code",
   "execution_count": 3,
   "metadata": {},
   "outputs": [],
   "source": [
    "e1.nextval = e3\n",
    "e3.nextval = e2"
   ]
  },
  {
   "cell_type": "code",
   "execution_count": 5,
   "metadata": {},
   "outputs": [],
   "source": [
    "thisvalue = e1"
   ]
  },
  {
   "cell_type": "code",
   "execution_count": 6,
   "metadata": {},
   "outputs": [
    {
     "name": "stdout",
     "output_type": "stream",
     "text": [
      "hey\n",
      "John\n",
      "How are you\n"
     ]
    }
   ],
   "source": [
    "while thisvalue:\n",
    "    print(thisvalue.dateval)\n",
    "    thisvalue = thisvalue.nextval"
   ]
  },
  {
   "cell_type": "code",
   "execution_count": 7,
   "metadata": {},
   "outputs": [],
   "source": [
    "class viewnames:\n",
    "    def __init__(self, asname = None):\n",
    "        self.asname = asname\n",
    "        self.nextname = None"
   ]
  },
  {
   "cell_type": "code",
   "execution_count": 8,
   "metadata": {},
   "outputs": [],
   "source": [
    "name1 = viewnames('Ravi')\n",
    "name2 = viewnames('Anil')\n",
    "name3 = viewnames('Bob')\n",
    "name4 = viewnames('Megha')"
   ]
  },
  {
   "cell_type": "code",
   "execution_count": 12,
   "metadata": {},
   "outputs": [],
   "source": [
    "name2.nextname = name3\n",
    "name4.nextname = name1\n",
    "name3.nextname = name4"
   ]
  },
  {
   "cell_type": "code",
   "execution_count": 13,
   "metadata": {},
   "outputs": [],
   "source": [
    "\n",
    "getname = name2"
   ]
  },
  {
   "cell_type": "code",
   "execution_count": 14,
   "metadata": {},
   "outputs": [
    {
     "name": "stdout",
     "output_type": "stream",
     "text": [
      "Anil\n",
      "Bob\n",
      "Megha\n",
      "Ravi\n"
     ]
    }
   ],
   "source": [
    "while getname:\n",
    "    print(getname.asname)\n",
    "    getname = getname.nextname"
   ]
  },
  {
   "cell_type": "code",
   "execution_count": null,
   "metadata": {},
   "outputs": [],
   "source": []
  }
 ],
 "metadata": {
  "kernelspec": {
   "display_name": "Python 3",
   "language": "python",
   "name": "python3"
  },
  "language_info": {
   "codemirror_mode": {
    "name": "ipython",
    "version": 3
   },
   "file_extension": ".py",
   "mimetype": "text/x-python",
   "name": "python",
   "nbconvert_exporter": "python",
   "pygments_lexer": "ipython3",
   "version": "3.7.4"
  }
 },
 "nbformat": 4,
 "nbformat_minor": 2
}
