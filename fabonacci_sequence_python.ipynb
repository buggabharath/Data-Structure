{
 "cells": [
  {
   "cell_type": "markdown",
   "metadata": {},
   "source": [
    "# Fibonacci Sequence"
   ]
  },
  {
   "cell_type": "code",
   "execution_count": 1,
   "metadata": {},
   "outputs": [],
   "source": [
    "f1 = 0\n",
    "f2 = 1\n",
    "count = 0"
   ]
  },
  {
   "cell_type": "code",
   "execution_count": 2,
   "metadata": {},
   "outputs": [
    {
     "name": "stdout",
     "output_type": "stream",
     "text": [
      "Enter a term value: 10\n",
      "Fibonacci sequence upto 10 :\n",
      "0,1,1,2,3,5,8,13,21,34,"
     ]
    }
   ],
   "source": [
    "nterm = int(input('Enter a term value: '))\n",
    "\n",
    "if nterm <= 0:\n",
    "    print('Please enter a positive number')\n",
    "elif nterm == 1:\n",
    "    print('Fibonacci sequence upto', nterm, \":\")\n",
    "    print(f1)\n",
    "else:\n",
    "    print('Fibonacci sequence upto', nterm, ':')\n",
    "    while count < nterm:\n",
    "        print(f1, end=',')\n",
    "        fth = f1 + f2\n",
    "        # update values\n",
    "        \n",
    "        f1 = f2\n",
    "        f2 = fth\n",
    "        count += 1"
   ]
  },
  {
   "cell_type": "markdown",
   "metadata": {},
   "source": [
    "# using Recursice functions"
   ]
  },
  {
   "cell_type": "code",
   "execution_count": 7,
   "metadata": {},
   "outputs": [
    {
     "name": "stdout",
     "output_type": "stream",
     "text": [
      "Enter any Number10\n"
     ]
    }
   ],
   "source": [
    "nterms = int(input('Enter any Number'))\n",
    "def recur_fibo(nterms):\n",
    "    if nterms <= 1:\n",
    "        return nterms\n",
    "    else:\n",
    "        return(recur_fibo(nterms-1) + recur_fibo(nterms-2))\n",
    "    "
   ]
  },
  {
   "cell_type": "code",
   "execution_count": 8,
   "metadata": {},
   "outputs": [
    {
     "name": "stdout",
     "output_type": "stream",
     "text": [
      "Fibonacci Sequence: \n",
      "0\n",
      "1\n",
      "1\n",
      "2\n",
      "3\n",
      "5\n",
      "8\n",
      "13\n",
      "21\n",
      "34\n"
     ]
    }
   ],
   "source": [
    "if nterms <= 0:\n",
    "    print('Please enter a postive ')\n",
    "else:\n",
    "    print(\"Fibonacci Sequence: \")\n",
    "    for i in range(nterms):\n",
    "        print(recur_fibo(i))"
   ]
  },
  {
   "cell_type": "code",
   "execution_count": null,
   "metadata": {},
   "outputs": [],
   "source": []
  }
 ],
 "metadata": {
  "kernelspec": {
   "display_name": "Python 3",
   "language": "python",
   "name": "python3"
  },
  "language_info": {
   "codemirror_mode": {
    "name": "ipython",
    "version": 3
   },
   "file_extension": ".py",
   "mimetype": "text/x-python",
   "name": "python",
   "nbconvert_exporter": "python",
   "pygments_lexer": "ipython3",
   "version": "3.7.4"
  }
 },
 "nbformat": 4,
 "nbformat_minor": 2
}
